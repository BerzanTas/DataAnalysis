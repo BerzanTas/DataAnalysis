{
 "cells": [
  {
   "attachments": {},
   "cell_type": "markdown",
   "id": "675ab5a6",
   "metadata": {
    "_cell_guid": "b1076dfc-b9ad-4769-8c92-a6c4dae69d19",
    "_uuid": "8f2839f25d086af736a60e9eeb907d3b93b6e0e5",
    "papermill": {
     "duration": 0.00676,
     "end_time": "2023-06-26T14:31:20.523126",
     "exception": false,
     "start_time": "2023-06-26T14:31:20.516366",
     "status": "completed"
    },
    "tags": []
   },
   "source": [
    "# CUSTOMER TREADMILL PURCHASE"
   ]
  },
  {
   "attachments": {},
   "cell_type": "markdown",
   "id": "bdd5b496",
   "metadata": {
    "papermill": {
     "duration": 0.006181,
     "end_time": "2023-06-26T14:31:20.536628",
     "exception": false,
     "start_time": "2023-06-26T14:31:20.530447",
     "status": "completed"
    },
    "tags": []
   },
   "source": [
    "### IMPORTING LIBRARIES"
   ]
  },
  {
   "cell_type": "code",
   "execution_count": 1,
   "id": "3d5652c8",
   "metadata": {
    "execution": {
     "iopub.execute_input": "2023-06-26T14:31:20.552695Z",
     "iopub.status.busy": "2023-06-26T14:31:20.551728Z",
     "iopub.status.idle": "2023-06-26T14:31:22.079539Z",
     "shell.execute_reply": "2023-06-26T14:31:22.078494Z"
    },
    "papermill": {
     "duration": 1.539428,
     "end_time": "2023-06-26T14:31:22.082397",
     "exception": false,
     "start_time": "2023-06-26T14:31:20.542969",
     "status": "completed"
    },
    "tags": []
   },
   "outputs": [],
   "source": [
    "import pandas as pd\n",
    "import numpy as np\n",
    "import matplotlib.pyplot as plt\n",
    "import seaborn as sns"
   ]
  },
  {
   "attachments": {},
   "cell_type": "markdown",
   "id": "ea6a1bd7",
   "metadata": {
    "papermill": {
     "duration": 0.008432,
     "end_time": "2023-06-26T14:31:22.098193",
     "exception": false,
     "start_time": "2023-06-26T14:31:22.089761",
     "status": "completed"
    },
    "tags": []
   },
   "source": [
    "# Exploring data"
   ]
  },
  {
   "cell_type": "code",
   "execution_count": 2,
   "id": "db942642",
   "metadata": {
    "execution": {
     "iopub.execute_input": "2023-06-26T14:31:22.113185Z",
     "iopub.status.busy": "2023-06-26T14:31:22.112711Z",
     "iopub.status.idle": "2023-06-26T14:31:22.137384Z",
     "shell.execute_reply": "2023-06-26T14:31:22.136380Z"
    },
    "papermill": {
     "duration": 0.035209,
     "end_time": "2023-06-26T14:31:22.139867",
     "exception": false,
     "start_time": "2023-06-26T14:31:22.104658",
     "status": "completed"
    },
    "tags": []
   },
   "outputs": [],
   "source": [
    "df = pd.read_csv(\"CardioGoodFitness.csv\")"
   ]
  },
  {
   "attachments": {},
   "cell_type": "markdown",
   "id": "0cef7694",
   "metadata": {
    "papermill": {
     "duration": 0.006345,
     "end_time": "2023-06-26T14:31:22.152827",
     "exception": false,
     "start_time": "2023-06-26T14:31:22.146482",
     "status": "completed"
    },
    "tags": []
   },
   "source": [
    "_____________________________"
   ]
  },
  {
   "cell_type": "code",
   "execution_count": 3,
   "id": "79e41701",
   "metadata": {
    "execution": {
     "iopub.execute_input": "2023-06-26T14:31:22.169256Z",
     "iopub.status.busy": "2023-06-26T14:31:22.168465Z",
     "iopub.status.idle": "2023-06-26T14:31:22.175354Z",
     "shell.execute_reply": "2023-06-26T14:31:22.174421Z"
    },
    "papermill": {
     "duration": 0.017725,
     "end_time": "2023-06-26T14:31:22.177517",
     "exception": false,
     "start_time": "2023-06-26T14:31:22.159792",
     "status": "completed"
    },
    "tags": []
   },
   "outputs": [
    {
     "data": {
      "text/plain": [
       "(180, 9)"
      ]
     },
     "execution_count": 3,
     "metadata": {},
     "output_type": "execute_result"
    }
   ],
   "source": [
    "#Number of rows and columns\n",
    "\n",
    "df.shape"
   ]
  },
  {
   "cell_type": "code",
   "execution_count": 4,
   "id": "4da63be9",
   "metadata": {
    "execution": {
     "iopub.execute_input": "2023-06-26T14:31:22.193349Z",
     "iopub.status.busy": "2023-06-26T14:31:22.192515Z",
     "iopub.status.idle": "2023-06-26T14:31:22.199322Z",
     "shell.execute_reply": "2023-06-26T14:31:22.198321Z"
    },
    "papermill": {
     "duration": 0.017589,
     "end_time": "2023-06-26T14:31:22.201769",
     "exception": false,
     "start_time": "2023-06-26T14:31:22.184180",
     "status": "completed"
    },
    "tags": []
   },
   "outputs": [
    {
     "data": {
      "text/plain": [
       "Index(['Product', 'Age', 'Gender', 'Education', 'MaritalStatus', 'Usage',\n",
       "       'Fitness', 'Income', 'Miles'],\n",
       "      dtype='object')"
      ]
     },
     "execution_count": 4,
     "metadata": {},
     "output_type": "execute_result"
    }
   ],
   "source": [
    "#Column names\n",
    "\n",
    "df.columns"
   ]
  },
  {
   "cell_type": "code",
   "execution_count": 5,
   "id": "1ac03ec1",
   "metadata": {
    "execution": {
     "iopub.execute_input": "2023-06-26T14:31:22.218414Z",
     "iopub.status.busy": "2023-06-26T14:31:22.217941Z",
     "iopub.status.idle": "2023-06-26T14:31:22.249126Z",
     "shell.execute_reply": "2023-06-26T14:31:22.247984Z"
    },
    "papermill": {
     "duration": 0.041909,
     "end_time": "2023-06-26T14:31:22.251515",
     "exception": false,
     "start_time": "2023-06-26T14:31:22.209606",
     "status": "completed"
    },
    "tags": []
   },
   "outputs": [
    {
     "data": {
      "text/html": [
       "<div>\n",
       "<style scoped>\n",
       "    .dataframe tbody tr th:only-of-type {\n",
       "        vertical-align: middle;\n",
       "    }\n",
       "\n",
       "    .dataframe tbody tr th {\n",
       "        vertical-align: top;\n",
       "    }\n",
       "\n",
       "    .dataframe thead th {\n",
       "        text-align: right;\n",
       "    }\n",
       "</style>\n",
       "<table border=\"1\" class=\"dataframe\">\n",
       "  <thead>\n",
       "    <tr style=\"text-align: right;\">\n",
       "      <th></th>\n",
       "      <th>Product</th>\n",
       "      <th>Age</th>\n",
       "      <th>Gender</th>\n",
       "      <th>Education</th>\n",
       "      <th>MaritalStatus</th>\n",
       "      <th>Usage</th>\n",
       "      <th>Fitness</th>\n",
       "      <th>Income</th>\n",
       "      <th>Miles</th>\n",
       "    </tr>\n",
       "  </thead>\n",
       "  <tbody>\n",
       "    <tr>\n",
       "      <th>0</th>\n",
       "      <td>TM195</td>\n",
       "      <td>18</td>\n",
       "      <td>Male</td>\n",
       "      <td>14</td>\n",
       "      <td>Single</td>\n",
       "      <td>3</td>\n",
       "      <td>4</td>\n",
       "      <td>29562</td>\n",
       "      <td>112</td>\n",
       "    </tr>\n",
       "    <tr>\n",
       "      <th>1</th>\n",
       "      <td>TM195</td>\n",
       "      <td>19</td>\n",
       "      <td>Male</td>\n",
       "      <td>15</td>\n",
       "      <td>Single</td>\n",
       "      <td>2</td>\n",
       "      <td>3</td>\n",
       "      <td>31836</td>\n",
       "      <td>75</td>\n",
       "    </tr>\n",
       "    <tr>\n",
       "      <th>2</th>\n",
       "      <td>TM195</td>\n",
       "      <td>19</td>\n",
       "      <td>Female</td>\n",
       "      <td>14</td>\n",
       "      <td>Partnered</td>\n",
       "      <td>4</td>\n",
       "      <td>3</td>\n",
       "      <td>30699</td>\n",
       "      <td>66</td>\n",
       "    </tr>\n",
       "    <tr>\n",
       "      <th>3</th>\n",
       "      <td>TM195</td>\n",
       "      <td>19</td>\n",
       "      <td>Male</td>\n",
       "      <td>12</td>\n",
       "      <td>Single</td>\n",
       "      <td>3</td>\n",
       "      <td>3</td>\n",
       "      <td>32973</td>\n",
       "      <td>85</td>\n",
       "    </tr>\n",
       "    <tr>\n",
       "      <th>4</th>\n",
       "      <td>TM195</td>\n",
       "      <td>20</td>\n",
       "      <td>Male</td>\n",
       "      <td>13</td>\n",
       "      <td>Partnered</td>\n",
       "      <td>4</td>\n",
       "      <td>2</td>\n",
       "      <td>35247</td>\n",
       "      <td>47</td>\n",
       "    </tr>\n",
       "    <tr>\n",
       "      <th>5</th>\n",
       "      <td>TM195</td>\n",
       "      <td>20</td>\n",
       "      <td>Female</td>\n",
       "      <td>14</td>\n",
       "      <td>Partnered</td>\n",
       "      <td>3</td>\n",
       "      <td>3</td>\n",
       "      <td>32973</td>\n",
       "      <td>66</td>\n",
       "    </tr>\n",
       "    <tr>\n",
       "      <th>6</th>\n",
       "      <td>TM195</td>\n",
       "      <td>21</td>\n",
       "      <td>Female</td>\n",
       "      <td>14</td>\n",
       "      <td>Partnered</td>\n",
       "      <td>3</td>\n",
       "      <td>3</td>\n",
       "      <td>35247</td>\n",
       "      <td>75</td>\n",
       "    </tr>\n",
       "    <tr>\n",
       "      <th>7</th>\n",
       "      <td>TM195</td>\n",
       "      <td>21</td>\n",
       "      <td>Male</td>\n",
       "      <td>13</td>\n",
       "      <td>Single</td>\n",
       "      <td>3</td>\n",
       "      <td>3</td>\n",
       "      <td>32973</td>\n",
       "      <td>85</td>\n",
       "    </tr>\n",
       "    <tr>\n",
       "      <th>8</th>\n",
       "      <td>TM195</td>\n",
       "      <td>21</td>\n",
       "      <td>Male</td>\n",
       "      <td>15</td>\n",
       "      <td>Single</td>\n",
       "      <td>5</td>\n",
       "      <td>4</td>\n",
       "      <td>35247</td>\n",
       "      <td>141</td>\n",
       "    </tr>\n",
       "    <tr>\n",
       "      <th>9</th>\n",
       "      <td>TM195</td>\n",
       "      <td>21</td>\n",
       "      <td>Female</td>\n",
       "      <td>15</td>\n",
       "      <td>Partnered</td>\n",
       "      <td>2</td>\n",
       "      <td>3</td>\n",
       "      <td>37521</td>\n",
       "      <td>85</td>\n",
       "    </tr>\n",
       "  </tbody>\n",
       "</table>\n",
       "</div>"
      ],
      "text/plain": [
       "  Product  Age  Gender  Education MaritalStatus  Usage  Fitness  Income  Miles\n",
       "0   TM195   18    Male         14        Single      3        4   29562    112\n",
       "1   TM195   19    Male         15        Single      2        3   31836     75\n",
       "2   TM195   19  Female         14     Partnered      4        3   30699     66\n",
       "3   TM195   19    Male         12        Single      3        3   32973     85\n",
       "4   TM195   20    Male         13     Partnered      4        2   35247     47\n",
       "5   TM195   20  Female         14     Partnered      3        3   32973     66\n",
       "6   TM195   21  Female         14     Partnered      3        3   35247     75\n",
       "7   TM195   21    Male         13        Single      3        3   32973     85\n",
       "8   TM195   21    Male         15        Single      5        4   35247    141\n",
       "9   TM195   21  Female         15     Partnered      2        3   37521     85"
      ]
     },
     "execution_count": 5,
     "metadata": {},
     "output_type": "execute_result"
    }
   ],
   "source": [
    "#The first 10 records of our dataset\n",
    "\n",
    "df.head(10)"
   ]
  },
  {
   "cell_type": "code",
   "execution_count": 6,
   "id": "5366042d",
   "metadata": {
    "execution": {
     "iopub.execute_input": "2023-06-26T14:31:22.268160Z",
     "iopub.status.busy": "2023-06-26T14:31:22.266835Z",
     "iopub.status.idle": "2023-06-26T14:31:22.295554Z",
     "shell.execute_reply": "2023-06-26T14:31:22.293837Z"
    },
    "papermill": {
     "duration": 0.03967,
     "end_time": "2023-06-26T14:31:22.298254",
     "exception": false,
     "start_time": "2023-06-26T14:31:22.258584",
     "status": "completed"
    },
    "tags": []
   },
   "outputs": [
    {
     "name": "stdout",
     "output_type": "stream",
     "text": [
      "<class 'pandas.core.frame.DataFrame'>\n",
      "RangeIndex: 180 entries, 0 to 179\n",
      "Data columns (total 9 columns):\n",
      " #   Column         Non-Null Count  Dtype \n",
      "---  ------         --------------  ----- \n",
      " 0   Product        180 non-null    object\n",
      " 1   Age            180 non-null    int64 \n",
      " 2   Gender         180 non-null    object\n",
      " 3   Education      180 non-null    int64 \n",
      " 4   MaritalStatus  180 non-null    object\n",
      " 5   Usage          180 non-null    int64 \n",
      " 6   Fitness        180 non-null    int64 \n",
      " 7   Income         180 non-null    int64 \n",
      " 8   Miles          180 non-null    int64 \n",
      "dtypes: int64(6), object(3)\n",
      "memory usage: 12.8+ KB\n"
     ]
    }
   ],
   "source": [
    "df.info()"
   ]
  },
  {
   "cell_type": "code",
   "execution_count": 7,
   "id": "bd675944",
   "metadata": {
    "execution": {
     "iopub.execute_input": "2023-06-26T14:31:22.315851Z",
     "iopub.status.busy": "2023-06-26T14:31:22.314863Z",
     "iopub.status.idle": "2023-06-26T14:31:22.346857Z",
     "shell.execute_reply": "2023-06-26T14:31:22.345943Z"
    },
    "papermill": {
     "duration": 0.04327,
     "end_time": "2023-06-26T14:31:22.349069",
     "exception": false,
     "start_time": "2023-06-26T14:31:22.305799",
     "status": "completed"
    },
    "tags": []
   },
   "outputs": [
    {
     "data": {
      "text/html": [
       "<div>\n",
       "<style scoped>\n",
       "    .dataframe tbody tr th:only-of-type {\n",
       "        vertical-align: middle;\n",
       "    }\n",
       "\n",
       "    .dataframe tbody tr th {\n",
       "        vertical-align: top;\n",
       "    }\n",
       "\n",
       "    .dataframe thead th {\n",
       "        text-align: right;\n",
       "    }\n",
       "</style>\n",
       "<table border=\"1\" class=\"dataframe\">\n",
       "  <thead>\n",
       "    <tr style=\"text-align: right;\">\n",
       "      <th></th>\n",
       "      <th>Age</th>\n",
       "      <th>Education</th>\n",
       "      <th>Usage</th>\n",
       "      <th>Fitness</th>\n",
       "      <th>Income</th>\n",
       "      <th>Miles</th>\n",
       "    </tr>\n",
       "  </thead>\n",
       "  <tbody>\n",
       "    <tr>\n",
       "      <th>count</th>\n",
       "      <td>180.000000</td>\n",
       "      <td>180.000000</td>\n",
       "      <td>180.000000</td>\n",
       "      <td>180.000000</td>\n",
       "      <td>180.000000</td>\n",
       "      <td>180.000000</td>\n",
       "    </tr>\n",
       "    <tr>\n",
       "      <th>mean</th>\n",
       "      <td>28.788889</td>\n",
       "      <td>15.572222</td>\n",
       "      <td>3.455556</td>\n",
       "      <td>3.311111</td>\n",
       "      <td>53719.577778</td>\n",
       "      <td>103.194444</td>\n",
       "    </tr>\n",
       "    <tr>\n",
       "      <th>std</th>\n",
       "      <td>6.943498</td>\n",
       "      <td>1.617055</td>\n",
       "      <td>1.084797</td>\n",
       "      <td>0.958869</td>\n",
       "      <td>16506.684226</td>\n",
       "      <td>51.863605</td>\n",
       "    </tr>\n",
       "    <tr>\n",
       "      <th>min</th>\n",
       "      <td>18.000000</td>\n",
       "      <td>12.000000</td>\n",
       "      <td>2.000000</td>\n",
       "      <td>1.000000</td>\n",
       "      <td>29562.000000</td>\n",
       "      <td>21.000000</td>\n",
       "    </tr>\n",
       "    <tr>\n",
       "      <th>25%</th>\n",
       "      <td>24.000000</td>\n",
       "      <td>14.000000</td>\n",
       "      <td>3.000000</td>\n",
       "      <td>3.000000</td>\n",
       "      <td>44058.750000</td>\n",
       "      <td>66.000000</td>\n",
       "    </tr>\n",
       "    <tr>\n",
       "      <th>50%</th>\n",
       "      <td>26.000000</td>\n",
       "      <td>16.000000</td>\n",
       "      <td>3.000000</td>\n",
       "      <td>3.000000</td>\n",
       "      <td>50596.500000</td>\n",
       "      <td>94.000000</td>\n",
       "    </tr>\n",
       "    <tr>\n",
       "      <th>75%</th>\n",
       "      <td>33.000000</td>\n",
       "      <td>16.000000</td>\n",
       "      <td>4.000000</td>\n",
       "      <td>4.000000</td>\n",
       "      <td>58668.000000</td>\n",
       "      <td>114.750000</td>\n",
       "    </tr>\n",
       "    <tr>\n",
       "      <th>max</th>\n",
       "      <td>50.000000</td>\n",
       "      <td>21.000000</td>\n",
       "      <td>7.000000</td>\n",
       "      <td>5.000000</td>\n",
       "      <td>104581.000000</td>\n",
       "      <td>360.000000</td>\n",
       "    </tr>\n",
       "  </tbody>\n",
       "</table>\n",
       "</div>"
      ],
      "text/plain": [
       "              Age   Education       Usage     Fitness         Income  \\\n",
       "count  180.000000  180.000000  180.000000  180.000000     180.000000   \n",
       "mean    28.788889   15.572222    3.455556    3.311111   53719.577778   \n",
       "std      6.943498    1.617055    1.084797    0.958869   16506.684226   \n",
       "min     18.000000   12.000000    2.000000    1.000000   29562.000000   \n",
       "25%     24.000000   14.000000    3.000000    3.000000   44058.750000   \n",
       "50%     26.000000   16.000000    3.000000    3.000000   50596.500000   \n",
       "75%     33.000000   16.000000    4.000000    4.000000   58668.000000   \n",
       "max     50.000000   21.000000    7.000000    5.000000  104581.000000   \n",
       "\n",
       "            Miles  \n",
       "count  180.000000  \n",
       "mean   103.194444  \n",
       "std     51.863605  \n",
       "min     21.000000  \n",
       "25%     66.000000  \n",
       "50%     94.000000  \n",
       "75%    114.750000  \n",
       "max    360.000000  "
      ]
     },
     "execution_count": 7,
     "metadata": {},
     "output_type": "execute_result"
    }
   ],
   "source": [
    "df.describe()"
   ]
  },
  {
   "attachments": {},
   "cell_type": "markdown",
   "id": "73d8fb84",
   "metadata": {
    "papermill": {
     "duration": 0.007069,
     "end_time": "2023-06-26T14:31:22.363467",
     "exception": false,
     "start_time": "2023-06-26T14:31:22.356398",
     "status": "completed"
    },
    "tags": []
   },
   "source": [
    "\n"
   ]
  },
  {
   "cell_type": "code",
   "execution_count": 8,
   "id": "4c79642b",
   "metadata": {
    "execution": {
     "iopub.execute_input": "2023-06-26T14:31:22.380472Z",
     "iopub.status.busy": "2023-06-26T14:31:22.380017Z",
     "iopub.status.idle": "2023-06-26T14:31:22.389695Z",
     "shell.execute_reply": "2023-06-26T14:31:22.388372Z"
    },
    "papermill": {
     "duration": 0.021335,
     "end_time": "2023-06-26T14:31:22.392153",
     "exception": false,
     "start_time": "2023-06-26T14:31:22.370818",
     "status": "completed"
    },
    "tags": []
   },
   "outputs": [
    {
     "data": {
      "text/plain": [
       "Product          0\n",
       "Age              0\n",
       "Gender           0\n",
       "Education        0\n",
       "MaritalStatus    0\n",
       "Usage            0\n",
       "Fitness          0\n",
       "Income           0\n",
       "Miles            0\n",
       "dtype: int64"
      ]
     },
     "execution_count": 8,
     "metadata": {},
     "output_type": "execute_result"
    }
   ],
   "source": [
    "#Let's see if we have any null values\n",
    "\n",
    "df.isnull().sum()"
   ]
  },
  {
   "cell_type": "code",
   "execution_count": 9,
   "id": "ce9925d1",
   "metadata": {
    "execution": {
     "iopub.execute_input": "2023-06-26T14:31:22.410667Z",
     "iopub.status.busy": "2023-06-26T14:31:22.410225Z",
     "iopub.status.idle": "2023-06-26T14:31:22.422271Z",
     "shell.execute_reply": "2023-06-26T14:31:22.421056Z"
    },
    "papermill": {
     "duration": 0.025018,
     "end_time": "2023-06-26T14:31:22.424969",
     "exception": false,
     "start_time": "2023-06-26T14:31:22.399951",
     "status": "completed"
    },
    "tags": []
   },
   "outputs": [
    {
     "data": {
      "text/plain": [
       "Product           3\n",
       "Age              32\n",
       "Gender            2\n",
       "Education         8\n",
       "MaritalStatus     2\n",
       "Usage             6\n",
       "Fitness           5\n",
       "Income           62\n",
       "Miles            37\n",
       "dtype: int64"
      ]
     },
     "execution_count": 9,
     "metadata": {},
     "output_type": "execute_result"
    }
   ],
   "source": [
    "#Number of unique categories\n",
    "\n",
    "df.nunique()"
   ]
  },
  {
   "cell_type": "code",
   "execution_count": 10,
   "id": "d4d4989e",
   "metadata": {
    "execution": {
     "iopub.execute_input": "2023-06-26T14:31:22.442263Z",
     "iopub.status.busy": "2023-06-26T14:31:22.441823Z",
     "iopub.status.idle": "2023-06-26T14:31:22.450460Z",
     "shell.execute_reply": "2023-06-26T14:31:22.449614Z"
    },
    "papermill": {
     "duration": 0.019943,
     "end_time": "2023-06-26T14:31:22.452629",
     "exception": false,
     "start_time": "2023-06-26T14:31:22.432686",
     "status": "completed"
    },
    "tags": []
   },
   "outputs": [
    {
     "data": {
      "text/plain": [
       "0"
      ]
     },
     "execution_count": 10,
     "metadata": {},
     "output_type": "execute_result"
    }
   ],
   "source": [
    "#Check if we have any duplicates\n",
    "\n",
    "df.duplicated().sum()"
   ]
  },
  {
   "attachments": {},
   "cell_type": "markdown",
   "id": "719acf85",
   "metadata": {
    "papermill": {
     "duration": 0.007362,
     "end_time": "2023-06-26T14:31:22.467700",
     "exception": false,
     "start_time": "2023-06-26T14:31:22.460338",
     "status": "completed"
    },
    "tags": []
   },
   "source": [
    "#### Seems like there is no need for data cleaning"
   ]
  },
  {
   "attachments": {},
   "cell_type": "markdown",
   "id": "abaa5a72",
   "metadata": {
    "papermill": {
     "duration": 0.007289,
     "end_time": "2023-06-26T14:31:22.482809",
     "exception": false,
     "start_time": "2023-06-26T14:31:22.475520",
     "status": "completed"
    },
    "tags": []
   },
   "source": [
    "# Data visualization"
   ]
  },
  {
   "cell_type": "code",
   "execution_count": 11,
   "id": "fbd1f514",
   "metadata": {
    "execution": {
     "iopub.execute_input": "2023-06-26T14:31:22.500168Z",
     "iopub.status.busy": "2023-06-26T14:31:22.499658Z",
     "iopub.status.idle": "2023-06-26T14:31:22.849477Z",
     "shell.execute_reply": "2023-06-26T14:31:22.848299Z"
    },
    "papermill": {
     "duration": 0.361383,
     "end_time": "2023-06-26T14:31:22.851783",
     "exception": false,
     "start_time": "2023-06-26T14:31:22.490400",
     "status": "completed"
    },
    "tags": []
   },
   "outputs": [
    {
     "data": {
      "text/plain": [
       "<Axes: xlabel='Product', ylabel='Count'>"
      ]
     },
     "execution_count": 11,
     "metadata": {},
     "output_type": "execute_result"
    },
    {
     "data": {
      "image/png": "[encoded data removed]",
      "text/plain": [
       "<Figure size 640x480 with 1 Axes>"
      ]
     },
     "metadata": {},
     "output_type": "display_data"
    }
   ],
   "source": [
    "#Popularity of products between males and females\n",
    "\n",
    "sns.histplot(data = df, x = 'Product', hue = 'Gender', multiple=\"dodge\", shrink=.8, palette=['blue', 'pink'])"
   ]
  },
  {
   "attachments": {},
   "cell_type": "markdown",
   "id": "1cfe8742",
   "metadata": {
    "papermill": {
     "duration": 0.007752,
     "end_time": "2023-06-26T14:31:22.868248",
     "exception": false,
     "start_time": "2023-06-26T14:31:22.860496",
     "status": "completed"
    },
    "tags": []
   },
   "source": [
    "**The most popular product is the TM195, the popularity is equal between genders.\n",
    "Things are different for the product TM798, males are the dominant buyers.**"
   ]
  },
  {
   "cell_type": "code",
   "execution_count": 12,
   "id": "0879f47f",
   "metadata": {
    "execution": {
     "iopub.execute_input": "2023-06-26T14:31:22.886900Z",
     "iopub.status.busy": "2023-06-26T14:31:22.886462Z",
     "iopub.status.idle": "2023-06-26T14:31:23.150010Z",
     "shell.execute_reply": "2023-06-26T14:31:23.148872Z"
    },
    "papermill": {
     "duration": 0.276352,
     "end_time": "2023-06-26T14:31:23.152695",
     "exception": false,
     "start_time": "2023-06-26T14:31:22.876343",
     "status": "completed"
    },
    "tags": []
   },
   "outputs": [
    {
     "data": {
      "text/plain": [
       "<Axes: xlabel='Product', ylabel='Count'>"
      ]
     },
     "execution_count": 12,
     "metadata": {},
     "output_type": "execute_result"
    },
    {
     "data": {
      "image/png": "[encoded data removed]",
      "text/plain": [
       "<Figure size 640x480 with 1 Axes>"
      ]
     },
     "metadata": {},
     "output_type": "display_data"
    }
   ],
   "source": [
    "#Popularity of products depending on marital status\n",
    "\n",
    "sns.histplot(data = df, x = 'Product', hue = 'MaritalStatus', multiple=\"dodge\", shrink=.8, palette=['red', 'blue'])"
   ]
  },
  {
   "attachments": {},
   "cell_type": "markdown",
   "id": "53fdc1a3",
   "metadata": {
    "papermill": {
     "duration": 0.008331,
     "end_time": "2023-06-26T14:31:23.169695",
     "exception": false,
     "start_time": "2023-06-26T14:31:23.161364",
     "status": "completed"
    },
    "tags": []
   },
   "source": [
    "**Maybe we should try to reach more married people with our ads?**"
   ]
  },
  {
   "cell_type": "code",
   "execution_count": 13,
   "id": "a9217997",
   "metadata": {
    "execution": {
     "iopub.execute_input": "2023-06-26T14:31:23.189068Z",
     "iopub.status.busy": "2023-06-26T14:31:23.188613Z",
     "iopub.status.idle": "2023-06-26T14:31:23.587426Z",
     "shell.execute_reply": "2023-06-26T14:31:23.586317Z"
    },
    "papermill": {
     "duration": 0.411501,
     "end_time": "2023-06-26T14:31:23.589859",
     "exception": false,
     "start_time": "2023-06-26T14:31:23.178358",
     "status": "completed"
    },
    "tags": []
   },
   "outputs": [
    {
     "data": {
      "image/png": "[encoded data removed]",
      "text/plain": [
       "<Figure size 640x480 with 1 Axes>"
      ]
     },
     "metadata": {},
     "output_type": "display_data"
    }
   ],
   "source": [
    "#Income depending on the years of education\n",
    "\n",
    "lineEdIn = sns.lineplot(data = df, x = 'Education', y = 'Income')"
   ]
  },
  {
   "cell_type": "code",
   "execution_count": 14,
   "id": "d74034eb",
   "metadata": {
    "execution": {
     "iopub.execute_input": "2023-06-26T14:31:23.609936Z",
     "iopub.status.busy": "2023-06-26T14:31:23.609503Z",
     "iopub.status.idle": "2023-06-26T14:31:24.325686Z",
     "shell.execute_reply": "2023-06-26T14:31:24.324561Z"
    },
    "papermill": {
     "duration": 0.729029,
     "end_time": "2023-06-26T14:31:24.328007",
     "exception": false,
     "start_time": "2023-06-26T14:31:23.598978",
     "status": "completed"
    },
    "tags": []
   },
   "outputs": [
    {
     "data": {
      "text/plain": [
       "<seaborn.axisgrid.FacetGrid at 0x798da25b0250>"
      ]
     },
     "execution_count": 14,
     "metadata": {},
     "output_type": "execute_result"
    },
    {
     "data": {
      "image/png": "[encoded data removed]",
      "text/plain": [
       "<Figure size 1000x500 with 2 Axes>"
      ]
     },
     "metadata": {},
     "output_type": "display_data"
    }
   ],
   "source": [
    "#Fitness - Self rated fitness score of the customer (5 - very fit, 1 - very unfit)\n",
    "#Self rating depending on the gender and income\n",
    "\n",
    "sns.displot(data = df, x = 'Income', y = 'Fitness', col = \"Gender\", bins = 5)"
   ]
  },
  {
   "attachments": {},
   "cell_type": "markdown",
   "id": "f4f8e93a",
   "metadata": {
    "papermill": {
     "duration": 0.009241,
     "end_time": "2023-06-26T14:31:24.346497",
     "exception": false,
     "start_time": "2023-06-26T14:31:24.337256",
     "status": "completed"
    },
    "tags": []
   },
   "source": [
    "**In case of males, we can see that higher incomes = higher self rating**"
   ]
  },
  {
   "cell_type": "code",
   "execution_count": 15,
   "id": "38b92512",
   "metadata": {
    "execution": {
     "iopub.execute_input": "2023-06-26T14:31:24.368484Z",
     "iopub.status.busy": "2023-06-26T14:31:24.367174Z",
     "iopub.status.idle": "2023-06-26T14:31:24.650593Z",
     "shell.execute_reply": "2023-06-26T14:31:24.649459Z"
    },
    "papermill": {
     "duration": 0.296709,
     "end_time": "2023-06-26T14:31:24.652994",
     "exception": false,
     "start_time": "2023-06-26T14:31:24.356285",
     "status": "completed"
    },
    "tags": []
   },
   "outputs": [
    {
     "data": {
      "text/plain": [
       "<Axes: xlabel='Income', ylabel='Count'>"
      ]
     },
     "execution_count": 15,
     "metadata": {},
     "output_type": "execute_result"
    },
    {
     "data": {
      "image/png": "[encoded data removed]",
      "text/plain": [
       "<Figure size 640x480 with 1 Axes>"
      ]
     },
     "metadata": {},
     "output_type": "display_data"
    }
   ],
   "source": [
    "#Number of sales depending on income\n",
    "\n",
    "sns.histplot(data = df, x = 'Income')"
   ]
  },
  {
   "attachments": {},
   "cell_type": "markdown",
   "id": "84b2d9eb",
   "metadata": {
    "papermill": {
     "duration": 0.009564,
     "end_time": "2023-06-26T14:31:24.673382",
     "exception": false,
     "start_time": "2023-06-26T14:31:24.663818",
     "status": "completed"
    },
    "tags": []
   },
   "source": [
    "**This chart complements the chart above nicely, we can see that people with higher income have higher self rating, that's why they are less likely to buy our products**"
   ]
  },
  {
   "cell_type": "code",
   "execution_count": 16,
   "id": "4ffa7338",
   "metadata": {
    "execution": {
     "iopub.execute_input": "2023-06-26T14:31:24.695733Z",
     "iopub.status.busy": "2023-06-26T14:31:24.694717Z",
     "iopub.status.idle": "2023-06-26T14:31:24.922304Z",
     "shell.execute_reply": "2023-06-26T14:31:24.921140Z"
    },
    "papermill": {
     "duration": 0.241901,
     "end_time": "2023-06-26T14:31:24.925216",
     "exception": false,
     "start_time": "2023-06-26T14:31:24.683315",
     "status": "completed"
    },
    "tags": []
   },
   "outputs": [
    {
     "data": {
      "text/plain": [
       "<Axes: xlabel='Usage', ylabel='Age'>"
      ]
     },
     "execution_count": 16,
     "metadata": {},
     "output_type": "execute_result"
    },
    {
     "data": {
      "image/png": "[encoded data removed]",
      "text/plain": [
       "<Figure size 640x480 with 1 Axes>"
      ]
     },
     "metadata": {},
     "output_type": "display_data"
    }
   ],
   "source": [
    "#Usage - Avg. # times the customer wants to use the treadmill every week\n",
    "#Age vs Usage\n",
    "sns.histplot(data = df, x = 'Usage', y = 'Age', bins = 5)"
   ]
  },
  {
   "cell_type": "code",
   "execution_count": 17,
   "id": "e08a02f5",
   "metadata": {
    "execution": {
     "iopub.execute_input": "2023-06-26T14:31:24.948146Z",
     "iopub.status.busy": "2023-06-26T14:31:24.947338Z",
     "iopub.status.idle": "2023-06-26T14:31:26.294288Z",
     "shell.execute_reply": "2023-06-26T14:31:26.293059Z"
    },
    "papermill": {
     "duration": 1.361468,
     "end_time": "2023-06-26T14:31:26.296917",
     "exception": false,
     "start_time": "2023-06-26T14:31:24.935449",
     "status": "completed"
    },
    "tags": []
   },
   "outputs": [
    {
     "data": {
      "text/plain": [
       "<seaborn.axisgrid.FacetGrid at 0x798da03a3dc0>"
      ]
     },
     "execution_count": 17,
     "metadata": {},
     "output_type": "execute_result"
    },
    {
     "data": {
      "image/png": "[encoded data removed]",
      "text/plain": [
       "<Figure size 1600.25x500 with 3 Axes>"
      ]
     },
     "metadata": {},
     "output_type": "display_data"
    }
   ],
   "source": [
    "#Product sales depending on age of clients\n",
    "\n",
    "sns.displot(data = df, x = 'Age', col = 'Product', hue = 'Gender', multiple=\"dodge\", shrink=.8, bins = 8)"
   ]
  },
  {
   "attachments": {},
   "cell_type": "markdown",
   "id": "b136309c",
   "metadata": {
    "papermill": {
     "duration": 0.010436,
     "end_time": "2023-06-26T14:31:26.318146",
     "exception": false,
     "start_time": "2023-06-26T14:31:26.307710",
     "status": "completed"
    },
    "tags": []
   },
   "source": [
    "# SUMMARY"
   ]
  },
  {
   "attachments": {},
   "cell_type": "markdown",
   "id": "d09af97d",
   "metadata": {
    "papermill": {
     "duration": 0.010467,
     "end_time": "2023-06-26T14:31:26.339264",
     "exception": false,
     "start_time": "2023-06-26T14:31:26.328797",
     "status": "completed"
    },
    "tags": []
   },
   "source": [
    "### Customer profile\n",
    "* Partnered\n",
    "* Age between 20-35\n",
    "* Income between 30000 - 70000"
   ]
  },
  {
   "attachments": {},
   "cell_type": "markdown",
   "id": "9cbdadc5",
   "metadata": {
    "papermill": {
     "duration": 0.010339,
     "end_time": "2023-06-26T14:31:26.360455",
     "exception": false,
     "start_time": "2023-06-26T14:31:26.350116",
     "status": "completed"
    },
    "tags": []
   },
   "source": [
    "## THANK YOU FOR VISITING!"
   ]
  }
 ],
 "metadata": {
  "kernelspec": {
   "display_name": "Python 3",
   "language": "python",
   "name": "python3"
  },
  "language_info": {
   "codemirror_mode": {
    "name": "ipython",
    "version": 3
   },
   "file_extension": ".py",
   "mimetype": "text/x-python",
   "name": "python",
   "nbconvert_exporter": "python",
   "pygments_lexer": "ipython3",
   "version": "3.10.10"
  },
  "papermill": {
   "default_parameters": {},
   "duration": 18.351056,
   "end_time": "2023-06-26T14:31:27.393881",
   "environment_variables": {},
   "exception": null,
   "input_path": "__notebook__.ipynb",
   "output_path": "__notebook__.ipynb",
   "parameters": {},
   "start_time": "2023-06-26T14:31:09.042825",
   "version": "2.4.0"
  }
 },
 "nbformat": 4,
 "nbformat_minor": 5
}
